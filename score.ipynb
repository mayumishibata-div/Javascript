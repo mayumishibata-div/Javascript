{
  "nbformat": 4,
  "nbformat_minor": 0,
  "metadata": {
    "colab": {
      "provenance": [],
      "authorship_tag": "ABX9TyO4ONlultyHFoRm7NAbIk6p",
      "include_colab_link": true
    },
    "kernelspec": {
      "name": "python3",
      "display_name": "Python 3"
    },
    "language_info": {
      "name": "python"
    }
  },
  "cells": [
    {
      "cell_type": "markdown",
      "metadata": {
        "id": "view-in-github",
        "colab_type": "text"
      },
      "source": [
        "<a href=\"https://colab.research.google.com/github/mayumishibata-div/Javascript/blob/main/score.ipynb\" target=\"_parent\"><img src=\"https://colab.research.google.com/assets/colab-badge.svg\" alt=\"Open In Colab\"/></a>"
      ]
    },
    {
      "cell_type": "code",
      "execution_count": 1,
      "metadata": {
        "colab": {
          "base_uri": "https://localhost:8080/"
        },
        "id": "AbyBKDeX6xhJ",
        "outputId": "6a461694-ad05-49a1-9fc7-5ded7a2bf76a"
      },
      "outputs": [
        {
          "output_type": "stream",
          "name": "stdout",
          "text": [
            "14点はCです\n",
            "70点はBです\n",
            "96点はSです\n",
            "80点はAです\n"
          ]
        }
      ],
      "source": [
        "def jag(score):\n",
        "    if score > 90:\n",
        "        return \"S\"\n",
        "    elif score > 70:\n",
        "        return \"A\"\n",
        "    elif score > 60:\n",
        "        return \"B\"\n",
        "    else:\n",
        "        return \"C\"\n",
        "\n",
        "score_list = [14,70,96,80]\n",
        "for score in score_list:\n",
        "    print(f\"{score}点は{jag(score)}です\")\n",
        "\n",
        ""
      ]
    }
  ]
}